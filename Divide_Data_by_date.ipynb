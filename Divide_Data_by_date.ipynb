{
 "cells": [
  {
   "cell_type": "code",
   "execution_count": 1,
   "metadata": {},
   "outputs": [],
   "source": [
    "import numpy as np\n",
    "import pandas as pd"
   ]
  },
  {
   "cell_type": "code",
   "execution_count": 2,
   "metadata": {},
   "outputs": [],
   "source": [
    "filename = \"/home/iiitd/Data_DTC/sept_25_2100.csv\""
   ]
  },
  {
   "cell_type": "code",
   "execution_count": 3,
   "metadata": {},
   "outputs": [],
   "source": [
    "X = pd.read_csv(filename)"
   ]
  },
  {
   "cell_type": "code",
   "execution_count": 4,
   "metadata": {},
   "outputs": [
    {
     "data": {
      "text/html": [
       "<div>\n",
       "<style scoped>\n",
       "    .dataframe tbody tr th:only-of-type {\n",
       "        vertical-align: middle;\n",
       "    }\n",
       "\n",
       "    .dataframe tbody tr th {\n",
       "        vertical-align: top;\n",
       "    }\n",
       "\n",
       "    .dataframe thead th {\n",
       "        text-align: right;\n",
       "    }\n",
       "</style>\n",
       "<table border=\"1\" class=\"dataframe\">\n",
       "  <thead>\n",
       "    <tr style=\"text-align: right;\">\n",
       "      <th></th>\n",
       "      <th>trip_id</th>\n",
       "      <th>route_id</th>\n",
       "      <th>geometry</th>\n",
       "      <th>latitude</th>\n",
       "      <th>longitude</th>\n",
       "      <th>speed</th>\n",
       "      <th>vehicle_id</th>\n",
       "      <th>timestamp</th>\n",
       "    </tr>\n",
       "  </thead>\n",
       "  <tbody>\n",
       "    <tr>\n",
       "      <th>0</th>\n",
       "      <td>3450</td>\n",
       "      <td>156</td>\n",
       "      <td>0101000020E6100000000000607451534000000080D081...</td>\n",
       "      <td>28.507088</td>\n",
       "      <td>77.272728</td>\n",
       "      <td>2.777778</td>\n",
       "      <td>DL1PC6647</td>\n",
       "      <td>2019-09-15 12:08:53+05:30</td>\n",
       "    </tr>\n",
       "    <tr>\n",
       "      <th>1</th>\n",
       "      <td>8145</td>\n",
       "      <td>304</td>\n",
       "      <td>0101000020E610000000000080764B5340000000601CB5...</td>\n",
       "      <td>28.707464</td>\n",
       "      <td>77.179108</td>\n",
       "      <td>0.555556</td>\n",
       "      <td>DL1PC4363</td>\n",
       "      <td>2019-09-15 12:08:42+05:30</td>\n",
       "    </tr>\n",
       "    <tr>\n",
       "      <th>2</th>\n",
       "      <td>14596</td>\n",
       "      <td>481</td>\n",
       "      <td>0101000020E6100000000000E0614E53400000006005AB...</td>\n",
       "      <td>28.668051</td>\n",
       "      <td>77.224724</td>\n",
       "      <td>0.000000</td>\n",
       "      <td>DL1PC5514</td>\n",
       "      <td>2019-09-15 12:08:40+05:30</td>\n",
       "    </tr>\n",
       "    <tr>\n",
       "      <th>3</th>\n",
       "      <td>8623</td>\n",
       "      <td>324</td>\n",
       "      <td>0101000020E6100000000000804B4F5340000000A059A6...</td>\n",
       "      <td>28.649805</td>\n",
       "      <td>77.238983</td>\n",
       "      <td>1.388889</td>\n",
       "      <td>DL1PC5035</td>\n",
       "      <td>2019-09-15 12:08:45+05:30</td>\n",
       "    </tr>\n",
       "    <tr>\n",
       "      <th>4</th>\n",
       "      <td>88767</td>\n",
       "      <td>53</td>\n",
       "      <td>0101000020E6100000000000608948534000000020D28E...</td>\n",
       "      <td>28.557894</td>\n",
       "      <td>77.133385</td>\n",
       "      <td>0.000000</td>\n",
       "      <td>DL1PD4167</td>\n",
       "      <td>2019-09-15 12:08:51+05:30</td>\n",
       "    </tr>\n",
       "  </tbody>\n",
       "</table>\n",
       "</div>"
      ],
      "text/plain": [
       "   trip_id  route_id                                           geometry  \\\n",
       "0     3450       156  0101000020E6100000000000607451534000000080D081...   \n",
       "1     8145       304  0101000020E610000000000080764B5340000000601CB5...   \n",
       "2    14596       481  0101000020E6100000000000E0614E53400000006005AB...   \n",
       "3     8623       324  0101000020E6100000000000804B4F5340000000A059A6...   \n",
       "4    88767        53  0101000020E6100000000000608948534000000020D28E...   \n",
       "\n",
       "    latitude  longitude     speed vehicle_id                  timestamp  \n",
       "0  28.507088  77.272728  2.777778  DL1PC6647  2019-09-15 12:08:53+05:30  \n",
       "1  28.707464  77.179108  0.555556  DL1PC4363  2019-09-15 12:08:42+05:30  \n",
       "2  28.668051  77.224724  0.000000  DL1PC5514  2019-09-15 12:08:40+05:30  \n",
       "3  28.649805  77.238983  1.388889  DL1PC5035  2019-09-15 12:08:45+05:30  \n",
       "4  28.557894  77.133385  0.000000  DL1PD4167  2019-09-15 12:08:51+05:30  "
      ]
     },
     "execution_count": 4,
     "metadata": {},
     "output_type": "execute_result"
    }
   ],
   "source": [
    "X.head()"
   ]
  },
  {
   "cell_type": "code",
   "execution_count": 5,
   "metadata": {},
   "outputs": [],
   "source": [
    "def getrow(input):\n",
    "    newstr = \"\"\n",
    "    for i in input:\n",
    "        newstr += str(i) + \",\"\n",
    "    return newstr[0:-1]+'\\n'    "
   ]
  },
  {
   "cell_type": "code",
   "execution_count": 6,
   "metadata": {},
   "outputs": [],
   "source": [
    "header = getrow(X.keys())"
   ]
  },
  {
   "cell_type": "code",
   "execution_count": 7,
   "metadata": {},
   "outputs": [
    {
     "data": {
      "text/plain": [
       "'trip_id,route_id,geometry,latitude,longitude,speed,vehicle_id,timestamp\\n'"
      ]
     },
     "execution_count": 7,
     "metadata": {},
     "output_type": "execute_result"
    }
   ],
   "source": [
    "header"
   ]
  },
  {
   "cell_type": "code",
   "execution_count": 8,
   "metadata": {},
   "outputs": [],
   "source": [
    "X = np.array(X)"
   ]
  },
  {
   "cell_type": "code",
   "execution_count": 9,
   "metadata": {},
   "outputs": [],
   "source": [
    "path = \"./newcollecteddata/\"\n",
    "extension = \".csv\""
   ]
  },
  {
   "cell_type": "code",
   "execution_count": 10,
   "metadata": {},
   "outputs": [],
   "source": [
    "# !rm ./newcollecteddata/*"
   ]
  },
  {
   "cell_type": "code",
   "execution_count": 11,
   "metadata": {},
   "outputs": [],
   "source": [
    "filedict = {}"
   ]
  },
  {
   "cell_type": "code",
   "execution_count": 12,
   "metadata": {},
   "outputs": [],
   "source": [
    "for i in range(len(X)):\n",
    "    outfile = X[i][7].split()[0]\n",
    "    if(outfile not in filedict):\n",
    "        filedict[outfile] = open(path+outfile+extension,'w')\n",
    "        filedict[outfile].write(header)\n",
    "    row = getrow(X[i])\n",
    "    filedict[outfile].write(row)"
   ]
  },
  {
   "cell_type": "code",
   "execution_count": 13,
   "metadata": {},
   "outputs": [],
   "source": [
    "for i in filedict.keys():\n",
    "    filedict[i].close()"
   ]
  },
  {
   "cell_type": "code",
   "execution_count": 1,
   "metadata": {},
   "outputs": [],
   "source": [
    "# Y = pd.read_csv(\"./newcollecteddata/2019-09-21.csv\")"
   ]
  },
  {
   "cell_type": "code",
   "execution_count": 2,
   "metadata": {},
   "outputs": [],
   "source": [
    "# Y.head()"
   ]
  },
  {
   "cell_type": "code",
   "execution_count": null,
   "metadata": {},
   "outputs": [],
   "source": []
  }
 ],
 "metadata": {
  "kernelspec": {
   "display_name": "Python 3",
   "language": "python",
   "name": "python3"
  },
  "language_info": {
   "codemirror_mode": {
    "name": "ipython",
    "version": 3
   },
   "file_extension": ".py",
   "mimetype": "text/x-python",
   "name": "python",
   "nbconvert_exporter": "python",
   "pygments_lexer": "ipython3",
   "version": "3.7.3"
  }
 },
 "nbformat": 4,
 "nbformat_minor": 2
}
